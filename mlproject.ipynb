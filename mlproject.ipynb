{
  "nbformat": 4,
  "nbformat_minor": 0,
  "metadata": {
    "colab": {
      "provenance": [],
      "authorship_tag": "ABX9TyNRFEJU5QDKJnbdKa72+BmG",
      "include_colab_link": true
    },
    "kernelspec": {
      "name": "python3",
      "display_name": "Python 3"
    },
    "language_info": {
      "name": "python"
    }
  },
  "cells": [
    {
      "cell_type": "markdown",
      "metadata": {
        "id": "view-in-github",
        "colab_type": "text"
      },
      "source": [
        "<a href=\"https://colab.research.google.com/github/Vejaysundaram-Rajkumar/Learning_ml_project/blob/main/mlproject.ipynb\" target=\"_parent\"><img src=\"https://colab.research.google.com/assets/colab-badge.svg\" alt=\"Open In Colab\"/></a>"
      ]
    },
    {
      "cell_type": "code",
      "execution_count": 31,
      "metadata": {
        "id": "3S3orG4T9NOl"
      },
      "outputs": [],
      "source": [
        "import pandas as pd\n",
        "db=pd.read_csv('cancer.csv')"
      ]
    },
    {
      "cell_type": "code",
      "source": [
        "x=db.drop(columns=[\"diagnosis(1=m, 0=b)\"])"
      ],
      "metadata": {
        "id": "cg0WqL6b_mi9"
      },
      "execution_count": 32,
      "outputs": []
    },
    {
      "cell_type": "code",
      "source": [
        "y=db[\"diagnosis(1=m, 0=b)\"]"
      ],
      "metadata": {
        "id": "m-4RlM2eAI38"
      },
      "execution_count": 33,
      "outputs": []
    },
    {
      "cell_type": "code",
      "source": [
        "from sklearn.model_selection import train_test_split\n",
        "\n",
        "x_train, x_test, y_train, y_test=train_test_split(x,y,test_size=0.2)"
      ],
      "metadata": {
        "id": "1nQ4MkKCAXyW"
      },
      "execution_count": 34,
      "outputs": []
    },
    {
      "cell_type": "code",
      "source": [
        "import tensorflow as tf\n",
        "\n",
        "model=tf.keras.models.Sequential()"
      ],
      "metadata": {
        "id": "vxa7uCw5Aydj"
      },
      "execution_count": 35,
      "outputs": []
    },
    {
      "cell_type": "code",
      "source": [
        "model.add(tf.keras.layers.Dense(256, input_shape=x_train.shape[1:], activation='sigmoid'))\n",
        "model.add(tf.keras.layers.Dense(256,activation='sigmoid'))\n",
        "model.add(tf.keras.layers.Dense(1, activation='sigmoid'))"
      ],
      "metadata": {
        "id": "4fmeyLCFBGf7"
      },
      "execution_count": 36,
      "outputs": []
    },
    {
      "cell_type": "code",
      "source": [
        "model.compile(optimizer='adam', loss='binary_crossentropy', metrics=['accuracy'])"
      ],
      "metadata": {
        "id": "2SkaVqf2CG4r"
      },
      "execution_count": 37,
      "outputs": []
    },
    {
      "cell_type": "code",
      "source": [
        "model.fit(x_train, y_train, epochs=1000)"
      ],
      "metadata": {
        "id": "m9jlr-HiCZBy"
      },
      "execution_count": null,
      "outputs": []
    },
    {
      "cell_type": "code",
      "source": [
        "model.evaluate(x_test,y_test)"
      ],
      "metadata": {
        "colab": {
          "base_uri": "https://localhost:8080/"
        },
        "id": "RuVbJDYFE8Iq",
        "outputId": "e81c2e4b-bd78-4561-e42e-9caf32354453"
      },
      "execution_count": 41,
      "outputs": [
        {
          "output_type": "stream",
          "name": "stdout",
          "text": [
            "4/4 [==============================] - 0s 3ms/step - loss: 0.1362 - accuracy: 0.9474\n"
          ]
        },
        {
          "output_type": "execute_result",
          "data": {
            "text/plain": [
              "[0.13621270656585693, 0.9473684430122375]"
            ]
          },
          "metadata": {},
          "execution_count": 41
        }
      ]
    }
  ]
}